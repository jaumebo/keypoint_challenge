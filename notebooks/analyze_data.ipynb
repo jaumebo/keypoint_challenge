{
 "cells": [
  {
   "cell_type": "code",
   "execution_count": 1,
   "metadata": {},
   "outputs": [],
   "source": [
    "import pandas as pd\n",
    "from pathlib import Path\n",
    "import matplotlib.pyplot as plt\n",
    "import numpy as np"
   ]
  },
  {
   "cell_type": "code",
   "execution_count": 2,
   "metadata": {},
   "outputs": [],
   "source": [
    "data_dir = Path(\"/Users/jaumebrossa/Code/AI/v7_challenge/data/trainval\").resolve()\n",
    "csv_paths = data_dir.glob(\"**/*.csv\")"
   ]
  },
  {
   "cell_type": "code",
   "execution_count": 3,
   "metadata": {},
   "outputs": [],
   "source": [
    "num_frames = []\n",
    "keypoint_count = {i+1:0 for i in range(19)}\n",
    "total_frames = 0\n",
    "for csv_path in csv_paths:\n",
    "    df = pd.read_csv(csv_path,header=None, names=[\"frame_id\", \"keypoint_id\", \"x\", \"y\", \"score\"])\n",
    "    num_frames.append(df[\"frame_id\"].max())\n",
    "    for i in range(19):\n",
    "        keypoint_count[i+1] += len(df[df[\"keypoint_id\"]==i+1])\n",
    "    total_frames += len(df)"
   ]
  },
  {
   "cell_type": "markdown",
   "metadata": {},
   "source": [
    "Stats of number of frames per data point"
   ]
  },
  {
   "cell_type": "code",
   "execution_count": 4,
   "metadata": {},
   "outputs": [
    {
     "name": "stdout",
     "output_type": "stream",
     "text": [
      "Max: 169\n",
      "Min: 6\n",
      "Mean: 69.54814814814814\n",
      "STD: 32.00629996284147\n"
     ]
    }
   ],
   "source": [
    "print(f\"Max: {max(num_frames)}\")\n",
    "print(f\"Min: {min(num_frames)}\")\n",
    "print(f\"Mean: {np.mean(num_frames)}\")\n",
    "print(f\"STD: {np.std(num_frames)}\")"
   ]
  },
  {
   "cell_type": "code",
   "execution_count": 23,
   "metadata": {},
   "outputs": [
    {
     "data": {
      "text/plain": [
       "(array([ 14., 100.,  57., 146.,  65.,  63.,  59.,  25.,   6.,   5.]),\n",
       " array([  6. ,  22.3,  38.6,  54.9,  71.2,  87.5, 103.8, 120.1, 136.4,\n",
       "        152.7, 169. ]),\n",
       " <BarContainer object of 10 artists>)"
      ]
     },
     "execution_count": 23,
     "metadata": {},
     "output_type": "execute_result"
    },
    {
     "data": {
      "image/png": "[encoded data removed]",
      "text/plain": [
       "<Figure size 432x288 with 1 Axes>"
      ]
     },
     "metadata": {
      "needs_background": "light"
     },
     "output_type": "display_data"
    }
   ],
   "source": [
    "plt.hist(num_frames)"
   ]
  },
  {
   "cell_type": "markdown",
   "metadata": {},
   "source": [
    "Bar plot of keypoints occurrence"
   ]
  },
  {
   "cell_type": "code",
   "execution_count": 18,
   "metadata": {},
   "outputs": [
    {
     "data": {
      "text/plain": [
       "<BarContainer object of 19 artists>"
      ]
     },
     "execution_count": 18,
     "metadata": {},
     "output_type": "execute_result"
    },
    {
     "data": {
      "image/png": "[encoded data removed]",
      "text/plain": [
       "<Figure size 432x288 with 1 Axes>"
      ]
     },
     "metadata": {
      "needs_background": "light"
     },
     "output_type": "display_data"
    }
   ],
   "source": [
    "plt.bar(keypoint_count.keys(),keypoint_count.values())"
   ]
  },
  {
   "cell_type": "code",
   "execution_count": 26,
   "metadata": {},
   "outputs": [
    {
     "data": {
      "text/html": [
       "<div>\n",
       "<style scoped>\n",
       "    .dataframe tbody tr th:only-of-type {\n",
       "        vertical-align: middle;\n",
       "    }\n",
       "\n",
       "    .dataframe tbody tr th {\n",
       "        vertical-align: top;\n",
       "    }\n",
       "\n",
       "    .dataframe thead th {\n",
       "        text-align: right;\n",
       "    }\n",
       "</style>\n",
       "<table border=\"1\" class=\"dataframe\">\n",
       "  <thead>\n",
       "    <tr style=\"text-align: right;\">\n",
       "      <th></th>\n",
       "      <th>frame_id</th>\n",
       "      <th>keypoint_id</th>\n",
       "      <th>x</th>\n",
       "      <th>y</th>\n",
       "      <th>score</th>\n",
       "    </tr>\n",
       "  </thead>\n",
       "  <tbody>\n",
       "    <tr>\n",
       "      <th>0</th>\n",
       "      <td>0</td>\n",
       "      <td>2</td>\n",
       "      <td>99.130435</td>\n",
       "      <td>532.682927</td>\n",
       "      <td>0.815192</td>\n",
       "    </tr>\n",
       "    <tr>\n",
       "      <th>1</th>\n",
       "      <td>0</td>\n",
       "      <td>3</td>\n",
       "      <td>165.217391</td>\n",
       "      <td>499.902439</td>\n",
       "      <td>0.851566</td>\n",
       "    </tr>\n",
       "    <tr>\n",
       "      <th>2</th>\n",
       "      <td>0</td>\n",
       "      <td>4</td>\n",
       "      <td>235.434783</td>\n",
       "      <td>602.341463</td>\n",
       "      <td>0.580237</td>\n",
       "    </tr>\n",
       "    <tr>\n",
       "      <th>3</th>\n",
       "      <td>0</td>\n",
       "      <td>5</td>\n",
       "      <td>301.521739</td>\n",
       "      <td>667.902439</td>\n",
       "      <td>0.368090</td>\n",
       "    </tr>\n",
       "    <tr>\n",
       "      <th>4</th>\n",
       "      <td>0</td>\n",
       "      <td>6</td>\n",
       "      <td>33.043478</td>\n",
       "      <td>536.780488</td>\n",
       "      <td>0.843705</td>\n",
       "    </tr>\n",
       "  </tbody>\n",
       "</table>\n",
       "</div>"
      ],
      "text/plain": [
       "   frame_id  keypoint_id           x           y     score\n",
       "0         0            2   99.130435  532.682927  0.815192\n",
       "1         0            3  165.217391  499.902439  0.851566\n",
       "2         0            4  235.434783  602.341463  0.580237\n",
       "3         0            5  301.521739  667.902439  0.368090\n",
       "4         0            6   33.043478  536.780488  0.843705"
      ]
     },
     "execution_count": 26,
     "metadata": {},
     "output_type": "execute_result"
    }
   ],
   "source": [
    "df.head()"
   ]
  },
  {
   "cell_type": "code",
   "execution_count": 7,
   "metadata": {},
   "outputs": [
    {
     "data": {
      "text/plain": [
       "543086"
      ]
     },
     "execution_count": 7,
     "metadata": {},
     "output_type": "execute_result"
    }
   ],
   "source": [
    "total_frames"
   ]
  },
  {
   "cell_type": "code",
   "execution_count": null,
   "metadata": {},
   "outputs": [],
   "source": []
  }
 ],
 "metadata": {
  "interpreter": {
   "hash": "2a4dc12b2610e9df5d7cd13d2f9f89fe5b31e9aa9b0ab24181cbe6b556664f37"
  },
  "kernelspec": {
   "display_name": "Python 3.8.12 ('keypoint_challenge')",
   "language": "python",
   "name": "python3"
  },
  "language_info": {
   "codemirror_mode": {
    "name": "ipython",
    "version": 3
   },
   "file_extension": ".py",
   "mimetype": "text/x-python",
   "name": "python",
   "nbconvert_exporter": "python",
   "pygments_lexer": "ipython3",
   "version": "3.8.12"
  },
  "orig_nbformat": 4
 },
 "nbformat": 4,
 "nbformat_minor": 2
}
